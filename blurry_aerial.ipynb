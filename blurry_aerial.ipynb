{
 "cells": [
  {
   "cell_type": "code",
   "execution_count": 1,
   "id": "ff28023a",
   "metadata": {
    "execution": {
     "iopub.execute_input": "2022-04-17T14:19:37.938804Z",
     "iopub.status.busy": "2022-04-17T14:19:37.935816Z",
     "iopub.status.idle": "2022-04-17T14:19:37.942714Z",
     "shell.execute_reply": "2022-04-17T14:19:37.942090Z",
     "shell.execute_reply.started": "2022-04-16T20:18:13.166543Z"
    },
    "papermill": {
     "duration": 0.023045,
     "end_time": "2022-04-17T14:19:37.942888",
     "exception": false,
     "start_time": "2022-04-17T14:19:37.919843",
     "status": "completed"
    },
    "tags": []
   },
   "outputs": [],
   "source": [
    "input_path = '/kaggle/input'"
   ]
  },
  {
   "cell_type": "markdown",
   "id": "8c8f2d59",
   "metadata": {
    "papermill": {
     "duration": 0.005444,
     "end_time": "2022-04-17T14:19:37.954630",
     "exception": false,
     "start_time": "2022-04-17T14:19:37.949186",
     "status": "completed"
    },
    "tags": []
   },
   "source": [
    "# Detect Blurry Images"
   ]
  },
  {
   "cell_type": "code",
   "execution_count": 2,
   "id": "9691ca63",
   "metadata": {
    "execution": {
     "iopub.execute_input": "2022-04-17T14:19:37.970109Z",
     "iopub.status.busy": "2022-04-17T14:19:37.969441Z",
     "iopub.status.idle": "2022-04-17T14:19:38.331010Z",
     "shell.execute_reply": "2022-04-17T14:19:38.330439Z",
     "shell.execute_reply.started": "2022-04-16T20:36:22.724938Z"
    },
    "papermill": {
     "duration": 0.370254,
     "end_time": "2022-04-17T14:19:38.331163",
     "exception": false,
     "start_time": "2022-04-17T14:19:37.960909",
     "status": "completed"
    },
    "tags": []
   },
   "outputs": [],
   "source": [
    "import cv2\n",
    "from glob import glob\n",
    "\n",
    "\n",
    "def variance_of_laplacian(image):\n",
    "    return cv2.Laplacian(image, cv2.CV_64F).var()\n",
    "\n",
    "def is_blurry(image_path, threshold=200):\n",
    "    image = cv2.imread(image_path)\n",
    "    gray  = cv2.cvtColor(image, cv2.COLOR_BGR2GRAY)\n",
    "    focus_measure = variance_of_laplacian(gray)\n",
    "#     print(focus_measure)\n",
    "    return focus_measure < threshold\n",
    "\n",
    "def get_all_blurry_trajectories(trajecotries_paths):\n",
    "    blurry_trajectories = []\n",
    "    for trajectory_path in trajecotries_paths:\n",
    "        trajectory_blurriness_estimate = [is_blurry(frame) for frame in glob(f'{trajectory_path}/*')]\n",
    "        is_blurry_trajectory = trajectory_blurriness_estimate.count(True) / len(trajectory_blurriness_estimate) >= 0.7\n",
    "\n",
    "        if is_blurry_trajectory:\n",
    "            blurry_trajectories.append(trajectory_path)\n",
    "    return blurry_trajectories"
   ]
  },
  {
   "cell_type": "code",
   "execution_count": 3,
   "id": "df01f0ff",
   "metadata": {
    "execution": {
     "iopub.execute_input": "2022-04-17T14:19:38.348693Z",
     "iopub.status.busy": "2022-04-17T14:19:38.347989Z",
     "iopub.status.idle": "2022-04-17T14:33:08.979642Z",
     "shell.execute_reply": "2022-04-17T14:33:08.980453Z",
     "shell.execute_reply.started": "2022-04-16T20:49:35.755566Z"
    },
    "papermill": {
     "duration": 810.643731,
     "end_time": "2022-04-17T14:33:08.980880",
     "exception": false,
     "start_time": "2022-04-17T14:19:38.337149",
     "status": "completed"
    },
    "tags": []
   },
   "outputs": [
    {
     "name": "stdout",
     "output_type": "stream",
     "text": [
      "Found 1354 blurry trajectories from total 9997 trajectories!\n"
     ]
    }
   ],
   "source": [
    "trajectory_paths = sorted(glob(f'{input_path}/aerial-tiles-extraction-*/aerials/*'))\n",
    "all_blurry_trajectories = get_all_blurry_trajectories(trajectory_paths)\n",
    "print(f'Found {len(all_blurry_trajectories)} blurry trajectories from total {len(trajectory_paths)} trajectories!')"
   ]
  },
  {
   "cell_type": "code",
   "execution_count": 4,
   "id": "1b918b89",
   "metadata": {
    "execution": {
     "iopub.execute_input": "2022-04-17T14:33:09.006421Z",
     "iopub.status.busy": "2022-04-17T14:33:09.005265Z",
     "iopub.status.idle": "2022-04-17T14:33:09.008776Z",
     "shell.execute_reply": "2022-04-17T14:33:09.008182Z"
    },
    "papermill": {
     "duration": 0.02085,
     "end_time": "2022-04-17T14:33:09.008951",
     "exception": false,
     "start_time": "2022-04-17T14:33:08.988101",
     "status": "completed"
    },
    "tags": []
   },
   "outputs": [],
   "source": [
    "import pickle\n",
    "\n",
    "\n",
    "with open('/kaggle/working/blurry_trajectories.pkl', 'wb') as f:\n",
    "     pickle.dump(all_blurry_trajectories, f)"
   ]
  }
 ],
 "metadata": {
  "kernelspec": {
   "display_name": "Python 3",
   "language": "python",
   "name": "python3"
  },
  "language_info": {
   "codemirror_mode": {
    "name": "ipython",
    "version": 3
   },
   "file_extension": ".py",
   "mimetype": "text/x-python",
   "name": "python",
   "nbconvert_exporter": "python",
   "pygments_lexer": "ipython3",
   "version": "3.7.12"
  },
  "papermill": {
   "default_parameters": {},
   "duration": 822.169656,
   "end_time": "2022-04-17T14:33:10.238345",
   "environment_variables": {},
   "exception": null,
   "input_path": "__notebook__.ipynb",
   "output_path": "__notebook__.ipynb",
   "parameters": {},
   "start_time": "2022-04-17T14:19:28.068689",
   "version": "2.3.3"
  }
 },
 "nbformat": 4,
 "nbformat_minor": 5
}
