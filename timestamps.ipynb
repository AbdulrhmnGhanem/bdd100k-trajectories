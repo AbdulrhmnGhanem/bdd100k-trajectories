{
  "nbformat": 4,
  "nbformat_minor": 0,
  "metadata": {
    "colab": {
      "name": "nth_frame.ipynb",
      "provenance": [],
      "collapsed_sections": [],
      "authorship_tag": "ABX9TyOfmRfu+fTa+Ny6Wdntde2g",
      "include_colab_link": true
    },
    "kernelspec": {
      "name": "python3",
      "display_name": "Python 3"
    },
    "language_info": {
      "name": "python"
    }
  },
  "cells": [
    {
      "cell_type": "markdown",
      "metadata": {
        "id": "view-in-github",
        "colab_type": "text"
      },
      "source": [
        "<a href=\"https://colab.research.google.com/github/AbdulrhmnGhanem/bdd100k-trajectories/blob/main/nth_frame.ipynb\" target=\"_parent\"><img src=\"https://colab.research.google.com/assets/colab-badge.svg\" alt=\"Open In Colab\"/></a>"
      ]
    },
    {
      "cell_type": "markdown",
      "source": [
        "In this notebook we are going to desgin the algorithm to get the frame at the `nth` displacement. We haven't settled on the `SAMPLING_DISTANCE` value, but I will prototype with `SAMPLING_DISTANCE = 10`."
      ],
      "metadata": {
        "id": "oxSPErHLlK3j"
      }
    },
    {
      "cell_type": "code",
      "execution_count": null,
      "metadata": {
        "colab": {
          "base_uri": "https://localhost:8080/"
        },
        "id": "zh53-WAtk1Vu",
        "outputId": "82a088c8-f824-4fe6-e7cf-c1dcc2a14f2b"
      },
      "outputs": [
        {
          "output_type": "stream",
          "name": "stdout",
          "text": [
            "Requirement already satisfied: pandas==1.3.5 in /usr/local/lib/python3.7/dist-packages (1.3.5)\n",
            "Requirement already satisfied: requests==2.23.0 in /usr/local/lib/python3.7/dist-packages (2.23.0)\n",
            "Requirement already satisfied: geopy==1.17.0 in /usr/local/lib/python3.7/dist-packages (1.17.0)\n",
            "Requirement already satisfied: imageio==2.4.1 in /usr/local/lib/python3.7/dist-packages (2.4.1)\n",
            "Requirement already satisfied: Pillow==7.1.2 in /usr/local/lib/python3.7/dist-packages (7.1.2)\n",
            "Requirement already satisfied: pytz>=2017.3 in /usr/local/lib/python3.7/dist-packages (from pandas==1.3.5) (2018.9)\n",
            "Requirement already satisfied: python-dateutil>=2.7.3 in /usr/local/lib/python3.7/dist-packages (from pandas==1.3.5) (2.8.2)\n",
            "Requirement already satisfied: numpy>=1.17.3 in /usr/local/lib/python3.7/dist-packages (from pandas==1.3.5) (1.21.5)\n",
            "Requirement already satisfied: urllib3!=1.25.0,!=1.25.1,<1.26,>=1.21.1 in /usr/local/lib/python3.7/dist-packages (from requests==2.23.0) (1.24.3)\n",
            "Requirement already satisfied: idna<3,>=2.5 in /usr/local/lib/python3.7/dist-packages (from requests==2.23.0) (2.10)\n",
            "Requirement already satisfied: chardet<4,>=3.0.2 in /usr/local/lib/python3.7/dist-packages (from requests==2.23.0) (3.0.4)\n",
            "Requirement already satisfied: certifi>=2017.4.17 in /usr/local/lib/python3.7/dist-packages (from requests==2.23.0) (2021.10.8)\n",
            "Requirement already satisfied: geographiclib<2,>=1.49 in /usr/local/lib/python3.7/dist-packages (from geopy==1.17.0) (1.52)\n",
            "Requirement already satisfied: six>=1.5 in /usr/local/lib/python3.7/dist-packages (from python-dateutil>=2.7.3->pandas==1.3.5) (1.15.0)\n",
            "Mounted at /content/drive\n"
          ]
        }
      ],
      "source": [
        "# Reproducible-ish dependencies\n",
        "!pip install \\\n",
        "    pandas==1.3.5 \\\n",
        "    requests==2.23.0 \\\n",
        "    geopy==1.17.0 \\\n",
        "    imageio==2.4.1 \\\n",
        "    Pillow==7.1.2\n",
        "\n",
        "from google.colab import drive\n",
        "drive.mount('/content/drive')"
      ]
    },
    {
      "cell_type": "code",
      "source": [
        "from getpass import getpass\n",
        "API_KEY = getpass('Enter the google maps API key: ')"
      ],
      "metadata": {
        "id": "R5a0szxE4jR9",
        "colab": {
          "base_uri": "https://localhost:8080/"
        },
        "outputId": "049fdbef-35fe-47e5-ee94-eb74d7488385"
      },
      "execution_count": null,
      "outputs": [
        {
          "name": "stdout",
          "output_type": "stream",
          "text": [
            "Enter the google maps API key: ··········\n"
          ]
        }
      ]
    },
    {
      "cell_type": "markdown",
      "source": [
        "## Read the stored `selected_trajectories` file\n",
        "\n",
        "> The selection criteria was \n",
        "> \n",
        "> $  50m \\le total \\ displacement \\ along \\ the \\ trajectory \\le 2500m$"
      ],
      "metadata": {
        "id": "Mv4lpIAPlBMa"
      }
    },
    {
      "cell_type": "code",
      "source": [
        "import pickle\n",
        "\n",
        "with open('/content/drive/MyDrive/selected_trajectories.pkl', 'rb') as f:\n",
        "  selected_trajectories = pickle.load(f) "
      ],
      "metadata": {
        "id": "WJ94I-RplFVa"
      },
      "execution_count": null,
      "outputs": []
    },
    {
      "cell_type": "code",
      "source": [
        "from typing import List, Tuple\n",
        "from itertools import accumulate\n",
        "from functools import lru_cache\n",
        "import io\n",
        "\n",
        "import geopy.distance\n",
        "import PIL\n",
        "import imageio\n",
        "import requests\n",
        "from numba import njit, typed, types\n",
        "\n",
        "\n",
        "\n",
        "ROUNDING_NDIGITS = 2\n",
        "\n",
        "\n",
        "def trajectory_to_points(trajectory: Tuple[str, List]) -> List[Tuple[float, float]]:\n",
        "  \"Return list of GPS points from a trajectory\"\n",
        "  return [(point[\"latitude\"], point[\"longitude\"]) for point in trajectory[1]]\n",
        "\n",
        "def get_trajectory_running_distance(trajectory: Tuple[str, List]) -> List[float]:\n",
        "  \"\"\"\n",
        "  Get the running distance of the trajectory at each second of the video\n",
        "  :param: points - list of GPS points, [](latitude, longitude)\n",
        "  \"\"\"\n",
        "  points = trajectory_to_points(trajectory)\n",
        "  # prepadding a zero at the beginning because the running distance at the start is zero.\n",
        "  adjacent_distance = [0] + [geopy.distance.distance(p1, p2).meters for p1, p2 in zip(points, points[1:])]\n",
        "  running_distance = accumulate(adjacent_distance)\n",
        "  return [round(d, ROUNDING_NDIGITS) for d in running_distance]\n",
        "\n",
        "\n",
        "def mark_trajectory(points, *,zoom, scale, size):\n",
        "  base_url = \"https://maps.googleapis.com/maps/api/staticmap\"\n",
        "  key=API_KEY\n",
        "  markers = '|'.join(f\"{x}, {y}\" for x, y in points)\n",
        "\n",
        "  img_url = f\"{base_url}?key={key}&zoom={zoom}&scale={scale}\" \\\n",
        "                f\"&size={size}&maptype=satellite&format=png\" \\\n",
        "                f\"&visual_refresh=true&markers={markers}\"\n",
        "  return PIL.Image.open(\n",
        "      io.BytesIO(requests.get(img_url).content)).convert('RGB')\n",
        "\n",
        "@lru_cache(maxsize=1)\n",
        "def load_total_distance_df():\n",
        "  with open('/content/drive/MyDrive/total_distance_df.pkl', 'rb') as f:\n",
        "    df = pickle.load(f)\n",
        "  return df\n",
        "\n",
        "@lru_cache()\n",
        "def get_trajectory_total_distance(trajectory_name: str):\n",
        "  df = load_total_distance_df()\n",
        "  return round(df.loc[trajectory_name][0], ROUNDING_NDIGITS)\n",
        "\n",
        "def get_average_speeds(trajectory):\n",
        "  \"\"\"\n",
        "  vn→n+1\n",
        "  The speed beween two adjacent points\n",
        "  \"\"\"\n",
        "  points_speed = [p[\"speed\"] for p in sample_trajectory[1]]\n",
        "  return [round((s1+s2)/2, ROUNDING_NDIGITS) for s1, s2 in zip(points_speed, points_speed[1:])]"
      ],
      "metadata": {
        "id": "s1v6VrxZrKXE"
      },
      "execution_count": null,
      "outputs": []
    },
    {
      "cell_type": "code",
      "source": [
        "from numpy.testing import assert_almost_equal\n",
        "\n",
        "sample_trajectory = selected_trajectories[0]\n",
        "\n",
        "trajectory_running_distance = get_trajectory_running_distance(sample_trajectory)\n",
        "total_distance_using_running_distance = trajectory_running_distance[-1]\n",
        "total_distance_pre_computed = get_trajectory_total_distance(sample_trajectory[0])\n",
        "\n",
        "assert_almost_equal(total_distance_using_running_distance, total_distance_pre_computed)"
      ],
      "metadata": {
        "id": "6mtliwdL8eK9"
      },
      "execution_count": null,
      "outputs": []
    },
    {
      "cell_type": "markdown",
      "source": [
        "So we can concloude the running average calculations are right! Now let's figure out how to get the time of the frame.\n",
        "\n",
        "> ### Division\n",
        "* Assuming we managed to divide the trajectories into $50m$ sub-trajectories.\n",
        "* We have the speed at each point, and we can assume constant speed between adjacent points of the average speed at these point $v_{n → n+1} = {{v_{n} + v_{n+1} \\over 2}, \\ n \\in \\{1, \\ 2, \\ 3, \\ \\ldots, \\lfloor{trajectory \\ distace \\over SAMPLING\\_DISTANCE} \\}}$.\n",
        "* The time between adjacent points is $1s$.\n",
        "* To get the time of corresponding frame for the $nth$ point we can use this formula $t_n={d \\times n \\over v_{n → n+1}} , \\ n \\in \\{1, \\  2, \\  3, \\  \\ldots, \\lfloor{trajectory \\ distace \\over SAMPLING\\_DISTANCE} \\land t_n \\gt t_{n-1}\\}$.\n",
        "* Then pass the list of $t_n$s to `ffmpeg` to extract the frames. \n",
        "\n",
        "> https://colab.research.google.com/drive/1RVCX9pociA3bU9IEeJNz0xaboCKWqYoq#scrollTo=zsx25ZJ-8PTK&line=9&uniqifier=1"
      ],
      "metadata": {
        "id": "hiTqMZ5DIMgF"
      }
    },
    {
      "cell_type": "code",
      "source": [
        "import numpy as np\n",
        "\n",
        "SAMPLING_DISTANCE = 10\n",
        "\n",
        "\n",
        "@njit\n",
        "def get_frames_timestamps(running_distance, average_speeds, sampling_points):\n",
        "  frames_times = [0]\n",
        "  for sampling_distance in sampling_points:\n",
        "    for idx, d in enumerate(running_distance):\n",
        "      if d >= sampling_distance:\n",
        "        # If the running distance greater than current sampling point then\n",
        "        # the frame is between the currrent point and the previous point.\n",
        "        distance_at_the_previos_point = running_distance[idx - 1]\n",
        "        speed_at_the_previos_point    = average_speeds[idx - 1]\n",
        "        if speed_at_the_previos_point == 0:\n",
        "          break\n",
        "        # the time equals the time at the previous point + the time to reach the sampling_distance\n",
        "        # we can use the idx of the previous point as the time at the prious point; the time between adjacent points is 1s\n",
        "        time = (idx - 1) + ((sampling_distance - distance_at_the_previos_point) / speed_at_the_previos_point)\n",
        "        time_ms = int(time * 1000)\n",
        "        if time_ms <= frames_times[-1]:\n",
        "          break\n",
        "        frames_times.append(time_ms)\n",
        "        break\n",
        "    else:\n",
        "        raise ValueError(\"Unreachable\")\n",
        "  \n",
        "  return frames_times"
      ],
      "metadata": {
        "id": "lUH8Lw9qJXRL"
      },
      "execution_count": null,
      "outputs": []
    },
    {
      "cell_type": "code",
      "source": [
        ""
      ],
      "metadata": {
        "id": "z9XLDXuwN_jM"
      },
      "execution_count": null,
      "outputs": []
    },
    {
      "cell_type": "code",
      "source": [
        "trajectory_running_distance = np.asarray(get_trajectory_running_distance(sample_trajectory))\n",
        "trajectory_total_distance = int(get_trajectory_running_distance(sample_trajectory)[-1])\n",
        "trajectory_sampling_points = np.asarray(range(0, trajectory_total_distance, SAMPLING_DISTANCE)[1:])\n",
        "trajectory_average_speeds = np.asarray(get_average_speeds(sample_trajectory))\n",
        "get_frames_timestamps(trajectory_running_distance, trajectory_average_speeds, trajectory_sampling_points)"
      ],
      "metadata": {
        "id": "J7M5MYvkanC8",
        "colab": {
          "base_uri": "https://localhost:8080/"
        },
        "outputId": "5153812f-4674-4b17-d50d-a2dbc1b7c0f6"
      },
      "execution_count": null,
      "outputs": [
        {
          "output_type": "execute_result",
          "data": {
            "text/plain": [
              "[0,\n",
              " 1146,\n",
              " 2199,\n",
              " 3114,\n",
              " 3953,\n",
              " 4731,\n",
              " 5717,\n",
              " 6628,\n",
              " 7514,\n",
              " 8445,\n",
              " 9416,\n",
              " 10395,\n",
              " 11449,\n",
              " 12823,\n",
              " 14205,\n",
              " 15575,\n",
              " 17143,\n",
              " 18916,\n",
              " 24121,\n",
              " 28031,\n",
              " 28561,\n",
              " 30427,\n",
              " 31631,\n",
              " 32612,\n",
              " 33532,\n",
              " 34262,\n",
              " 35149,\n",
              " 36021,\n",
              " 36807,\n",
              " 37594,\n",
              " 38314]"
            ]
          },
          "metadata": {},
          "execution_count": 9
        }
      ]
    },
    {
      "cell_type": "markdown",
      "source": [
        "# Generate the sampling timestamps for all trajectories"
      ],
      "metadata": {
        "id": "jAT-DQEJo_Io"
      }
    },
    {
      "cell_type": "code",
      "source": [
        "from datetime import datetime\n",
        "\n",
        "def format_timestamps(timestamps):\n",
        "  \"\"\"Format ms to ffmpeg timestamps\"\"\"\n",
        "  return [datetime.fromtimestamp(t/1000).strftime(\"00:00:%S.%f\")[:-3] for t in timestamps]\n",
        "\n",
        "\n",
        "def trajectory_with_timestamps(trajectory):\n",
        "  trajectory_running_distance = np.asarray(get_trajectory_running_distance(trajectory))\n",
        "  trajectory_total_distance = int(get_trajectory_running_distance(trajectory)[-1])\n",
        "  trajectory_sampling_points = np.asarray(range(0, trajectory_total_distance, SAMPLING_DISTANCE)[1:])\n",
        "  trajectory_average_speeds = np.asarray(get_average_speeds(trajectory))\n",
        "  timestamps = get_frames_timestamps(trajectory_running_distance, trajectory_average_speeds, trajectory_sampling_points)\n",
        "  return trajectory[0], format_timestamps(timestamps)"
      ],
      "metadata": {
        "id": "1iuuPJebyNE2"
      },
      "execution_count": null,
      "outputs": []
    },
    {
      "cell_type": "code",
      "source": [
        "selected_trajectories_with_timestamps = [trajectory_with_timestamps(trajectory) for trajectory in selected_trajectories]"
      ],
      "metadata": {
        "id": "oPeeMBJ6ykv2"
      },
      "execution_count": null,
      "outputs": []
    },
    {
      "cell_type": "markdown",
      "source": [
        "### Store the results"
      ],
      "metadata": {
        "id": "LKksDPQn4KyE"
      }
    },
    {
      "cell_type": "code",
      "source": [
        "with open('/content/drive/MyDrive/trajectories_with_timestamps.pkl', 'wb') as f:\n",
        "  pickle.dump(dict(selected_trajectories_with_timestamps), f)"
      ],
      "metadata": {
        "id": "J6_nYI3Gnn08"
      },
      "execution_count": null,
      "outputs": []
    }
  ]
}
