{
  "nbformat": 4,
  "nbformat_minor": 0,
  "metadata": {
    "colab": {
      "name": "nth_frame.ipynb",
      "provenance": [],
      "collapsed_sections": [],
      "authorship_tag": "ABX9TyNRHtf7FYQpfEhUIe9qHbax",
      "include_colab_link": true
    },
    "kernelspec": {
      "name": "python3",
      "display_name": "Python 3"
    },
    "language_info": {
      "name": "python"
    }
  },
  "cells": [
    {
      "cell_type": "markdown",
      "metadata": {
        "id": "view-in-github",
        "colab_type": "text"
      },
      "source": [
        "<a href=\"https://colab.research.google.com/github/AbdulrhmnGhanem/bdd100k-trajectories/blob/main/nth_frame.ipynb\" target=\"_parent\"><img src=\"https://colab.research.google.com/assets/colab-badge.svg\" alt=\"Open In Colab\"/></a>"
      ]
    },
    {
      "cell_type": "markdown",
      "source": [
        "In this notebook we are going to desgin the algorithm to get the frame at the `nth` displacement. We haven't settled on the `SAMPLING_DISTANCE` value, but I will prototype with `SAMPLING_DISTANCE = 10`."
      ],
      "metadata": {
        "id": "oxSPErHLlK3j"
      }
    },
    {
      "cell_type": "code",
      "execution_count": 1,
      "metadata": {
        "colab": {
          "base_uri": "https://localhost:8080/"
        },
        "id": "zh53-WAtk1Vu",
        "outputId": "2ce592a1-d5b5-4608-9de9-7fd9167ab3f0"
      },
      "outputs": [
        {
          "output_type": "stream",
          "name": "stdout",
          "text": [
            "Requirement already satisfied: pandas==1.3.5 in /usr/local/lib/python3.7/dist-packages (1.3.5)\n",
            "Requirement already satisfied: requests==2.23.0 in /usr/local/lib/python3.7/dist-packages (2.23.0)\n",
            "Requirement already satisfied: geopy==1.17.0 in /usr/local/lib/python3.7/dist-packages (1.17.0)\n",
            "Requirement already satisfied: imageio==2.4.1 in /usr/local/lib/python3.7/dist-packages (2.4.1)\n",
            "Requirement already satisfied: Pillow==7.1.2 in /usr/local/lib/python3.7/dist-packages (7.1.2)\n",
            "Requirement already satisfied: numpy>=1.17.3 in /usr/local/lib/python3.7/dist-packages (from pandas==1.3.5) (1.21.5)\n",
            "Requirement already satisfied: python-dateutil>=2.7.3 in /usr/local/lib/python3.7/dist-packages (from pandas==1.3.5) (2.8.2)\n",
            "Requirement already satisfied: pytz>=2017.3 in /usr/local/lib/python3.7/dist-packages (from pandas==1.3.5) (2018.9)\n",
            "Requirement already satisfied: chardet<4,>=3.0.2 in /usr/local/lib/python3.7/dist-packages (from requests==2.23.0) (3.0.4)\n",
            "Requirement already satisfied: certifi>=2017.4.17 in /usr/local/lib/python3.7/dist-packages (from requests==2.23.0) (2021.10.8)\n",
            "Requirement already satisfied: idna<3,>=2.5 in /usr/local/lib/python3.7/dist-packages (from requests==2.23.0) (2.10)\n",
            "Requirement already satisfied: urllib3!=1.25.0,!=1.25.1,<1.26,>=1.21.1 in /usr/local/lib/python3.7/dist-packages (from requests==2.23.0) (1.24.3)\n",
            "Requirement already satisfied: geographiclib<2,>=1.49 in /usr/local/lib/python3.7/dist-packages (from geopy==1.17.0) (1.52)\n",
            "Requirement already satisfied: six>=1.5 in /usr/local/lib/python3.7/dist-packages (from python-dateutil>=2.7.3->pandas==1.3.5) (1.15.0)\n",
            "Drive already mounted at /content/drive; to attempt to forcibly remount, call drive.mount(\"/content/drive\", force_remount=True).\n"
          ]
        }
      ],
      "source": [
        "# Reproducible-ish dependencies\n",
        "!pip install \\\n",
        "    pandas==1.3.5 \\\n",
        "    requests==2.23.0 \\\n",
        "    geopy==1.17.0 \\\n",
        "    imageio==2.4.1 \\\n",
        "    Pillow==7.1.2\n",
        "\n",
        "from google.colab import drive\n",
        "drive.mount('/content/drive')"
      ]
    },
    {
      "cell_type": "code",
      "source": [
        "from getpass import getpass\n",
        "API_KEY = getpass('Enter the google maps API key: ')"
      ],
      "metadata": {
        "colab": {
          "base_uri": "https://localhost:8080/"
        },
        "id": "R5a0szxE4jR9",
        "outputId": "384f2bd5-97c9-48ba-d212-1e01b3c0be34"
      },
      "execution_count": 2,
      "outputs": [
        {
          "name": "stdout",
          "output_type": "stream",
          "text": [
            "Enter the google maps API key: ··········\n"
          ]
        }
      ]
    },
    {
      "cell_type": "markdown",
      "source": [
        "## Read the stored `selected_trajectories` file\n",
        "\n",
        "> The selection criteria was \n",
        "> \n",
        "> $  50m \\le total \\ displacement \\ along \\ the \\ trajectory \\le 2500m$\n",
        ">\n",
        "\n",
        "> ### Division\n",
        "* Assuming we managed to divide the trajectories into $50m$ sub-trajectories.\n",
        "* We have the speed at each point, and we can assume constant speed between adjacent points of the average speed at these point $v_{n → n+1} = {{v_{n} + v_{n+1} \\over 2}, \\ n \\in \\{1, \\ 2, \\ 3, \\ \\ldots, \\lfloor{trajectory \\ distace \\over SAMPLING\\_DISTANCE} \\}}$.\n",
        "* The time between adjacent points is $1s$.\n",
        "* To get the time of corresponding frame for the $nth$ point we can use this formula $t_n={d \\times n \\over v_{n → n+1}} , \\ n \\in \\{1, \\  2, \\  3, \\  \\ldots, \\lfloor{trajectory \\ distace \\over SAMPLING\\_DISTANCE} \\}$.\n",
        "* Then pass the list of $t_n$s to `ffmpeg` to extract the frames. \n",
        "\n",
        "> https://colab.research.google.com/drive/1RVCX9pociA3bU9IEeJNz0xaboCKWqYoq#scrollTo=zsx25ZJ-8PTK&line=9&uniqifier=1"
      ],
      "metadata": {
        "id": "Mv4lpIAPlBMa"
      }
    },
    {
      "cell_type": "code",
      "source": [
        "import pickle\n",
        "\n",
        "with open('/content/drive/MyDrive/selected_trajectories.pkl', 'rb') as f:\n",
        "  selected_trajectories = pickle.load(f) "
      ],
      "metadata": {
        "id": "WJ94I-RplFVa"
      },
      "execution_count": 3,
      "outputs": []
    },
    {
      "cell_type": "code",
      "source": [
        "from typing import List, Tuple\n",
        "from itertools import accumulate\n",
        "from functools import lru_cache\n",
        "import io\n",
        "\n",
        "import geopy.distance\n",
        "import PIL\n",
        "import imageio\n",
        "import requests\n",
        "\n",
        "\n",
        "ROUNDING_NDIGITS = 2\n",
        "\n",
        "def trajectory_to_points(trajectory: Tuple[str, List]) -> List[Tuple[float, float]]:\n",
        "  \"Return list of GPS points from a trajectory\"\n",
        "  return [(point[\"latitude\"], point[\"longitude\"]) for point in trajectory[1]]\n",
        "\n",
        "def get_trajectory_running_distance(points: List[Tuple[float, float]]) -> List[float]:\n",
        "  \"\"\"\n",
        "  Get the running distance of the trajectory at each second of the video\n",
        "  :param: points - list of GPS points, [](latitude, longitude)\n",
        "  \"\"\"\n",
        "  # prepadding a zero at the beginning because the running distance at the start is zero.\n",
        "  adjacent_distance = [0] + [geopy.distance.vincenty(p1, p2).meters for p1, p2 in zip(points, points[1:])]\n",
        "  running_distance = accumulate(adjacent_distance)\n",
        "  return [round(d, ROUNDING_NDIGITS) for d in running_distance]\n",
        "\n",
        "\n",
        "def mark_trajectory(points, *,zoom, scale, size):\n",
        "  base_url = \"https://maps.googleapis.com/maps/api/staticmap\"\n",
        "  key=API_KEY\n",
        "  markers = '|'.join(f\"{x}, {y}\" for x, y in points)\n",
        "\n",
        "  img_url = f\"{base_url}?key={key}&zoom={zoom}&scale={scale}\" \\\n",
        "                f\"&size={size}&maptype=satellite&format=png\" \\\n",
        "                f\"&visual_refresh=true&markers={markers}\"\n",
        "  return PIL.Image.open(\n",
        "      io.BytesIO(requests.get(img_url).content)).convert('RGB')\n",
        "\n",
        "@lru_cache(maxsize=1)\n",
        "def load_total_distance_df():\n",
        "  with open('/content/drive/MyDrive/total_distance_df.pkl', 'rb') as f:\n",
        "    df = pickle.load(f)\n",
        "  return df\n",
        "\n",
        "@lru_cache()\n",
        "def get_trajectory_total_distance(trajectory_name: str):\n",
        "  df = load_total_distance_df()\n",
        "  return round(df.loc[trajectory_name][0], ROUNDING_NDIGITS)\n",
        "\n",
        "def get_average_speeds(trajectory):\n",
        "  \"\"\"\n",
        "  vn→n+1\n",
        "  The speed beween two adjacent points\n",
        "  \"\"\"\n",
        "  points_speed = [p[\"speed\"] for p in sample_trajectory[1]]\n",
        "  return [round((s1+s2)/2, ROUNDING_NDIGITS) for s1, s2 in zip(points_speed, points_speed[1:])]"
      ],
      "metadata": {
        "id": "s1v6VrxZrKXE"
      },
      "execution_count": 4,
      "outputs": []
    },
    {
      "cell_type": "code",
      "source": [
        "from numpy.testing import assert_almost_equal\n",
        "\n",
        "sample_trajectory = selected_trajectories[0]\n",
        "\n",
        "trajectory_running_distance = get_trajectory_running_distance(trajectory_to_points(sample_trajectory))\n",
        "total_distance_using_running_distance = trajectory_running_distance[-1]\n",
        "total_distance_pre_computed = get_trajectory_total_distance(sample_trajectory[0])\n",
        "\n",
        "assert_almost_equal(total_distance_using_running_distance, total_distance_pre_computed)"
      ],
      "metadata": {
        "id": "6mtliwdL8eK9"
      },
      "execution_count": 5,
      "outputs": []
    },
    {
      "cell_type": "markdown",
      "source": [
        "So we can concloude the running average calculations are right! Now let's calcualte figure out how to get the time of the frame."
      ],
      "metadata": {
        "id": "hiTqMZ5DIMgF"
      }
    },
    {
      "cell_type": "code",
      "source": [
        "get_average_speeds(sample_trajectory)"
      ],
      "metadata": {
        "colab": {
          "base_uri": "https://localhost:8080/"
        },
        "id": "lUH8Lw9qJXRL",
        "outputId": "75083e4e-187f-4880-d283-2411543385f5"
      },
      "execution_count": 6,
      "outputs": [
        {
          "output_type": "execute_result",
          "data": {
            "text/plain": [
              "[6.97,\n",
              " 8.97,\n",
              " 10.7,\n",
              " 11.93,\n",
              " 12.38,\n",
              " 12.28,\n",
              " 12.08,\n",
              " 11.62,\n",
              " 11.0,\n",
              " 10.5,\n",
              " 10.02,\n",
              " 8.99,\n",
              " 7.82,\n",
              " 7.33,\n",
              " 7.12,\n",
              " 6.93,\n",
              " 6.7,\n",
              " 6.15,\n",
              " 5.02,\n",
              " 3.28,\n",
              " 1.14,\n",
              " 0.81,\n",
              " 2.1,\n",
              " 2.62,\n",
              " 2.64,\n",
              " 2.73,\n",
              " 2.3,\n",
              " 2.22,\n",
              " 3.72,\n",
              " 5.22,\n",
              " 6.81,\n",
              " 8.47,\n",
              " 9.57,\n",
              " 10.63,\n",
              " 11.18,\n",
              " 11.47,\n",
              " 12.0,\n",
              " 12.61,\n",
              " 12.86]"
            ]
          },
          "metadata": {},
          "execution_count": 6
        }
      ]
    }
  ]
}