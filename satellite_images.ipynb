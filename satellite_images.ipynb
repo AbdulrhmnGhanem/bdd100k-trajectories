{
  "nbformat": 4,
  "nbformat_minor": 0,
  "metadata": {
    "colab": {
      "name": "satellite_images.ipynb",
      "provenance": [],
      "authorship_tag": "ABX9TyMVrgNwlYnzTo1pO04IB3Xd",
      "include_colab_link": true
    },
    "kernelspec": {
      "name": "python3",
      "display_name": "Python 3"
    },
    "language_info": {
      "name": "python"
    }
  },
  "cells": [
    {
      "cell_type": "markdown",
      "metadata": {
        "id": "view-in-github",
        "colab_type": "text"
      },
      "source": [
        "<a href=\"https://colab.research.google.com/github/AbdulrhmnGhanem/bdd100k-trajectories/blob/main/satellite_images.ipynb\" target=\"_parent\"><img src=\"https://colab.research.google.com/assets/colab-badge.svg\" alt=\"Open In Colab\"/></a>"
      ]
    },
    {
      "cell_type": "markdown",
      "source": [
        "* I managed to sample the ground images at $1$ sample per $10m$.\n",
        "* The next step is to get the satellite images of the trajectory.\n",
        "\n",
        "## The Approach\n",
        "1. Take the `trajectories_with_timestamps` generated in the [timestamps.ipynb](https://colab.research.google.com/drive/1DACbOOUVDfqEiFVnMmY6b41iIxzZFC-h?usp=sharing).\n",
        "2. Split each trajectory into $50m$ chucks, i.e., each sub-trajectory in the trajectory will include 5 elements from the trajectory array. We want to tolerate trajectories with displacement not a multiple of $50m$ this means sub-trajectories can be at most $50m$ and at least $10m$\n",
        "> $10m \\le sub \\ trajectory \\ length \\le 50m $.\n",
        "3. We will have a problem with the points in which we don't have a GPS location, we need to figure out what algorithm should be used to estimate the GPS location of intermediate sampling points.\n",
        "  * http://www.movable-type.co.uk/scripts/latlong.html\n",
        "  * https://www.igismap.com/formula-to-find-bearing-or-heading-angle-between-two-points-latitude-longitude\n",
        "4. If we have the GPS location of all the intermediate sampling points, we can simply call the API to get the satellite images with the parameters we have agreed upon.\n",
        "> `zoom  = 20` \\\n",
        "> `scale =  1`  \\\n",
        "> `size  = 800x800`\n",
        "\n",
        "5. Resize the images to `400:-1`.\n",
        "6. Upload it.\n",
        "\n",
        "_Preferably doing 5 and 6 as a pipeline._\n",
        "\n"
      ],
      "metadata": {
        "id": "M1sdYiVgxmwt"
      }
    },
    {
      "cell_type": "code",
      "execution_count": null,
      "metadata": {
        "id": "5WR1BiJvwrHr"
      },
      "outputs": [],
      "source": [
        ""
      ]
    }
  ]
}